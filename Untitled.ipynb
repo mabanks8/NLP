{
 "cells": [
  {
   "cell_type": "code",
   "execution_count": 1,
   "id": "5b140754",
   "metadata": {},
   "outputs": [],
   "source": [
    "import pandas as pd\n",
    "import seaborn as sns\n",
    "import numpy as np \n",
    "import csv"
   ]
  },
  {
   "cell_type": "code",
   "execution_count": 2,
   "id": "3456df79",
   "metadata": {},
   "outputs": [],
   "source": [
    "b1 = pd.read_csv(\"book1-100k.csv\")\n",
    "b2 = pd.read_csv(\"book100k-200k.csv\")\n",
    "b3 = pd.read_csv(\"book200k-300k.csv\")\n",
    "b4 = pd.read_csv(\"book300k-400k.csv\")\n",
    "b5 = pd.read_csv(\"book400k-500k.csv\")\n",
    "b6 = pd.read_csv(\"book500k-600k.csv\")\n",
    "b7 = pd.read_csv(\"book600k-700k.csv\")\n",
    "b8 = pd.read_csv(\"book700k-800k.csv\")\n",
    "b9 = pd.read_csv(\"book800k-900k.csv\")\n",
    "b10 = pd.read_csv(\"book900k-1000k.csv\")\n",
    "b11 = pd.read_csv(\"book1000k-1100k.csv\")\n",
    "b12 = pd.read_csv(\"book1100k-1200k.csv\")\n",
    "b13 = pd.read_csv(\"book1200k-1300k.csv\")\n",
    "b14 = pd.read_csv(\"book1300k-1400k.csv\")\n",
    "b15 = pd.read_csv(\"book1400k-1500k.csv\")\n",
    "b16 = pd.read_csv(\"book1500k-1600k.csv\")\n",
    "b17 = pd.read_csv(\"book1600k-1700k.csv\")\n",
    "b18 = pd.read_csv(\"book1700k-1800k.csv\")\n",
    "b19 = pd.read_csv(\"book1800k-1900k.csv\")\n",
    "b20 = pd.read_csv(\"book1900k-2000k.csv\")\n",
    "b21 = pd.read_csv(\"book2000k-3000k.csv\")\n",
    "b22 = pd.read_csv(\"book3000k-4000k.csv\")\n",
    "b23 = pd.read_csv(\"book4000k-5000k.csv\")"
   ]
  },
  {
   "cell_type": "code",
   "execution_count": 3,
   "id": "fc76ce95",
   "metadata": {},
   "outputs": [
    {
     "name": "stdout",
     "output_type": "stream",
     "text": [
      "(58292, 18)\n",
      "(57046, 18)\n",
      "(56182, 18)\n",
      "(56586, 18)\n",
      "(55155, 18)\n",
      "(54859, 18)\n",
      "(55156, 19)\n",
      "(54273, 20)\n",
      "(49843, 20)\n",
      "(40890, 20)\n",
      "(39705, 20)\n",
      "(41892, 20)\n",
      "(43622, 20)\n",
      "(38288, 20)\n",
      "(34759, 20)\n",
      "(33439, 20)\n",
      "(32986, 20)\n",
      "(32105, 19)\n",
      "(38863, 19)\n",
      "(43561, 19)\n",
      "(395957, 19)\n",
      "(256595, 19)\n",
      "(280256, 19)\n"
     ]
    }
   ],
   "source": [
    "print(b1.shape)\n",
    "print(b2.shape)\n",
    "print(b3.shape)\n",
    "print(b4.shape)\n",
    "print(b5.shape)\n",
    "print(b6.shape)\n",
    "print(b7.shape)\n",
    "print(b8.shape)\n",
    "print(b9.shape)\n",
    "print(b10.shape)\n",
    "print(b11.shape)\n",
    "print(b12.shape)\n",
    "print(b13.shape)\n",
    "print(b14.shape)\n",
    "print(b15.shape)\n",
    "print(b16.shape)\n",
    "print(b17.shape)\n",
    "print(b18.shape)\n",
    "print(b19.shape)\n",
    "print(b20.shape)\n",
    "print(b21.shape)\n",
    "print(b22.shape)\n",
    "print(b23.shape)"
   ]
  },
  {
   "cell_type": "code",
   "execution_count": 4,
   "id": "cffa5557",
   "metadata": {},
   "outputs": [
    {
     "data": {
      "text/plain": [
       "Index(['Id', 'Name', 'RatingDist1', 'pagesNumber', 'RatingDist4',\n",
       "       'RatingDistTotal', 'PublishMonth', 'PublishDay', 'Publisher',\n",
       "       'CountsOfReview', 'PublishYear', 'Language', 'Authors', 'Rating',\n",
       "       'RatingDist2', 'RatingDist5', 'ISBN', 'RatingDist3'],\n",
       "      dtype='object')"
      ]
     },
     "execution_count": 4,
     "metadata": {},
     "output_type": "execute_result"
    }
   ],
   "source": [
    "b1.columns"
   ]
  },
  {
   "cell_type": "code",
   "execution_count": 5,
   "id": "5742fbea",
   "metadata": {},
   "outputs": [],
   "source": [
    "r1 = pd.read_csv(\"user_rating_0_to_1000.csv\")\n",
    "r2 = pd.read_csv(\"user_rating_1000_to_2000.csv\")\n",
    "r3 = pd.read_csv(\"user_rating_2000_to_3000.csv\")\n",
    "r4 = pd.read_csv(\"user_rating_3000_to_4000.csv\")\n",
    "r5 = pd.read_csv(\"user_rating_4000_to_5000.csv\")\n",
    "r6 = pd.read_csv(\"user_rating_5000_to_6000.csv\")\n",
    "r7 = pd.read_csv(\"user_rating_6000_to_11000.csv\")"
   ]
  },
  {
   "cell_type": "code",
   "execution_count": 6,
   "id": "2caee15b",
   "metadata": {},
   "outputs": [
    {
     "name": "stdout",
     "output_type": "stream",
     "text": [
      "(51945, 3)\n",
      "(42986, 3)\n",
      "(30633, 3)\n",
      "(46970, 3)\n",
      "(46903, 3)\n",
      "(15481, 3)\n",
      "(127678, 3)\n"
     ]
    }
   ],
   "source": [
    "print(r1.shape)\n",
    "print(r2.shape)\n",
    "print(r3.shape)\n",
    "print(r4.shape)\n",
    "print(r5.shape)\n",
    "print(r6.shape)\n",
    "print(r7.shape)"
   ]
  },
  {
   "cell_type": "code",
   "execution_count": 7,
   "id": "e5e02b4f",
   "metadata": {},
   "outputs": [
    {
     "data": {
      "text/plain": [
       "Index(['ID', 'Name', 'Rating'], dtype='object')"
      ]
     },
     "execution_count": 7,
     "metadata": {},
     "output_type": "execute_result"
    }
   ],
   "source": [
    "r1.columns"
   ]
  },
  {
   "cell_type": "code",
   "execution_count": 11,
   "id": "367b88e2",
   "metadata": {},
   "outputs": [],
   "source": [
    "booksdf = pd.concat([b1,b2,b3,b4,b5,b6,b7,b8,b9,b10,b11,b12,b13,b14,b15,b16,b17,b18,b19,b20,b21,b22,b23], axis=0)"
   ]
  },
  {
   "cell_type": "code",
   "execution_count": 12,
   "id": "0b889b88",
   "metadata": {},
   "outputs": [],
   "source": [
    "reviewsdf = pd.concat([r1,r2,r3,r4,r5,r6,r7], axis=0)"
   ]
  },
  {
   "cell_type": "code",
   "execution_count": 13,
   "id": "83d77695",
   "metadata": {},
   "outputs": [
    {
     "data": {
      "text/plain": [
       "(1850310, 21)"
      ]
     },
     "execution_count": 13,
     "metadata": {},
     "output_type": "execute_result"
    }
   ],
   "source": [
    "booksdf.shape"
   ]
  },
  {
   "cell_type": "code",
   "execution_count": 17,
   "id": "26474ff3",
   "metadata": {},
   "outputs": [
    {
     "data": {
      "text/plain": [
       "Index(['Id', 'Name', 'RatingDist1', 'pagesNumber', 'RatingDist4',\n",
       "       'RatingDistTotal', 'PublishMonth', 'PublishDay', 'Publisher',\n",
       "       'CountsOfReview', 'PublishYear', 'Language', 'Authors', 'Rating',\n",
       "       'RatingDist2', 'RatingDist5', 'ISBN', 'RatingDist3', 'Description',\n",
       "       'Count of text reviews', 'PagesNumber'],\n",
       "      dtype='object')"
      ]
     },
     "execution_count": 17,
     "metadata": {},
     "output_type": "execute_result"
    }
   ],
   "source": [
    "booksdf.columns"
   ]
  },
  {
   "cell_type": "code",
   "execution_count": 15,
   "id": "31e7d3c0",
   "metadata": {},
   "outputs": [
    {
     "data": {
      "text/plain": [
       "(362596, 3)"
      ]
     },
     "execution_count": 15,
     "metadata": {},
     "output_type": "execute_result"
    }
   ],
   "source": [
    "reviewsdf.shape"
   ]
  },
  {
   "cell_type": "code",
   "execution_count": 18,
   "id": "034ab803",
   "metadata": {},
   "outputs": [
    {
     "data": {
      "text/plain": [
       "Index(['ID', 'Name', 'Rating'], dtype='object')"
      ]
     },
     "execution_count": 18,
     "metadata": {},
     "output_type": "execute_result"
    }
   ],
   "source": [
    "reviewsdf.columns"
   ]
  },
  {
   "cell_type": "code",
   "execution_count": 19,
   "id": "f9b1d060",
   "metadata": {},
   "outputs": [],
   "source": [
    "df = pd.merge(booksdf, reviewsdf, on='Name')"
   ]
  },
  {
   "cell_type": "code",
   "execution_count": 20,
   "id": "4fb67d8a",
   "metadata": {},
   "outputs": [
    {
     "data": {
      "text/plain": [
       "Index(['Id', 'Name', 'RatingDist1', 'pagesNumber', 'RatingDist4',\n",
       "       'RatingDistTotal', 'PublishMonth', 'PublishDay', 'Publisher',\n",
       "       'CountsOfReview', 'PublishYear', 'Language', 'Authors', 'Rating_x',\n",
       "       'RatingDist2', 'RatingDist5', 'ISBN', 'RatingDist3', 'Description',\n",
       "       'Count of text reviews', 'PagesNumber', 'ID', 'Rating_y'],\n",
       "      dtype='object')"
      ]
     },
     "execution_count": 20,
     "metadata": {},
     "output_type": "execute_result"
    }
   ],
   "source": [
    "df.columns"
   ]
  },
  {
   "cell_type": "code",
   "execution_count": null,
   "id": "e8ed421b",
   "metadata": {},
   "outputs": [],
   "source": []
  }
 ],
 "metadata": {
  "kernelspec": {
   "display_name": "Python 3",
   "language": "python",
   "name": "python3"
  },
  "language_info": {
   "codemirror_mode": {
    "name": "ipython",
    "version": 3
   },
   "file_extension": ".py",
   "mimetype": "text/x-python",
   "name": "python",
   "nbconvert_exporter": "python",
   "pygments_lexer": "ipython3",
   "version": "3.8.8"
  }
 },
 "nbformat": 4,
 "nbformat_minor": 5
}
